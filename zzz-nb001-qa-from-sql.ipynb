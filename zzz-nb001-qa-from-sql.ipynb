{
 "cells": [
  {
   "cell_type": "markdown",
   "id": "465c003a-29cf-4cfe-a0c6-d36c04ae2b37",
   "metadata": {},
   "source": [
    "# QA over SQL data"
   ]
  },
  {
   "cell_type": "markdown",
   "id": "96a73fbf-e241-499d-a235-32a87b46ee7c",
   "metadata": {},
   "source": [
    "## Intro\n",
    "* We will create a Q&A app over tabular data in databases.\n",
    "* These app will allow us to **ask a question about the data in a database in natural language and get back an answer also in natural language**.\n",
    "* Building Q&A systems of SQL databases requires executing model-generated SQL queries. There are inherent risks in doing this. **In production, make sure that your database connection permissions** are always scoped as narrowly as possible for your chain's needs."
   ]
  },
  {
   "cell_type": "markdown",
   "id": "be46161e-45e9-46d7-8214-bcbea10aff2e",
   "metadata": {},
   "source": [
    "## Setup"
   ]
  },
  {
   "cell_type": "markdown",
   "id": "871e0018-cba4-4959-881a-0a65093d202d",
   "metadata": {},
   "source": [
    "#### After you download the code from the github repository in your computer\n",
    "In terminal:\n",
    "* cd project_name\n",
    "* pyenv local 3.11.4\n",
    "* poetry install\n",
    "* poetry shell\n",
    "\n",
    "#### To open the notebook with Jupyter Notebooks\n",
    "In terminal:\n",
    "* jupyter lab\n",
    "\n",
    "Go to the folder of notebooks and open the right notebook.\n",
    "\n",
    "#### To see the code in Virtual Studio Code or your editor of choice.\n",
    "* open Virtual Studio Code or your editor of choice.\n",
    "* open the project-folder\n",
    "* open the 001-qa-from-sql.py file"
   ]
  },
  {
   "cell_type": "markdown",
   "id": "5513e89d-8d35-4292-b2f7-0ed415d674eb",
   "metadata": {},
   "source": [
    "## Create your .env file\n",
    "* In the github repo we have included a file named .env.example\n",
    "* Rename that file to .env file and here is where you will add your confidential api keys. Remember to include:\n",
    "* OPENAI_API_KEY=your_openai_api_key\n",
    "* LANGCHAIN_TRACING_V2=true\n",
    "* LANGCHAIN_ENDPOINT=https://api.smith.langchain.com\n",
    "* LANGCHAIN_API_KEY=your_langchain_api_key\n",
    "* LANGCHAIN_PROJECT=your_project_name"
   ]
  },
  {
   "cell_type": "markdown",
   "id": "863dd299-0780-49ad-a1b7-b76e249350da",
   "metadata": {},
   "source": "We will call our LangSmith project **001-qa-from-sql**"
  },
  {
   "cell_type": "markdown",
   "id": "572542c1-8a9b-47c3-bd90-7f33c8461c23",
   "metadata": {},
   "source": [
    "## Connect with the .env file located in the same directory of this notebook"
   ]
  },
  {
   "cell_type": "markdown",
   "id": "a0dad983-5910-4256-acb4-86a6d9861c13",
   "metadata": {},
   "source": [
    "If you are using the pre-loaded poetry shell, you do not need to install the following package because it is already pre-loaded for you:"
   ]
  },
  {
   "cell_type": "code",
   "id": "a508d2ac-5e64-48a6-895e-2e0ab5162d1c",
   "metadata": {},
   "source": [
    "#!pip install python-dotenv"
   ],
   "outputs": [],
   "execution_count": null
  },
  {
   "cell_type": "code",
   "id": "fecd39d0-e72e-4bc2-8a68-2fa4008ea365",
   "metadata": {
    "ExecuteTime": {
     "end_time": "2025-06-21T04:04:09.526941Z",
     "start_time": "2025-06-21T04:04:09.510468Z"
    }
   },
   "source": [
    "import os\n",
    "from dotenv import load_dotenv, find_dotenv\n",
    "_ = load_dotenv(find_dotenv())\n",
    "openai_api_key = os.environ[\"OPENAI_API_KEY\"]"
   ],
   "outputs": [],
   "execution_count": 4
  },
  {
   "cell_type": "markdown",
   "id": "03f4a923-b19e-498e-9be5-e47ec4a77d80",
   "metadata": {},
   "source": [
    "## Install LangChain"
   ]
  },
  {
   "cell_type": "markdown",
   "id": "b411cb8c-4baf-43cf-bf79-e56646c90519",
   "metadata": {},
   "source": [
    "If you are using the pre-loaded poetry shell, you do not need to install the following package because it is already pre-loaded for you:"
   ]
  },
  {
   "cell_type": "code",
   "id": "c1cf94ae-6c39-4475-9c5b-4b74d8d78753",
   "metadata": {},
   "source": [
    "#!pip install langchain"
   ],
   "outputs": [],
   "execution_count": null
  },
  {
   "cell_type": "markdown",
   "id": "189e9e17-dfb0-4fd3-85b9-1fba83771941",
   "metadata": {},
   "source": [
    "## Connect with an LLM"
   ]
  },
  {
   "cell_type": "markdown",
   "id": "57b4581b-0b47-4a00-8c72-5d4846cfea15",
   "metadata": {},
   "source": [
    "If you are using the pre-loaded poetry shell, you do not need to install the following package because it is already pre-loaded for you:"
   ]
  },
  {
   "cell_type": "code",
   "id": "148df8e0-361d-4ddd-8709-af48fa1648d1",
   "metadata": {},
   "source": [
    "#!pip install langchain-openai"
   ],
   "outputs": [],
   "execution_count": null
  },
  {
   "cell_type": "markdown",
   "id": "a1998155-91de-4cbc-bc88-8d77beefb51b",
   "metadata": {},
   "source": [
    "* NOTE: Since right now is the best LLM in the market, we will use OpenAI by default. You will see how to connect with other Open Source LLMs like Llama3 or Mistral in a next lesson."
   ]
  },
  {
   "cell_type": "code",
   "id": "6ae8595e-5c07-4b02-8a79-db55fd357527",
   "metadata": {
    "ExecuteTime": {
     "end_time": "2025-06-21T04:09:49.193736Z",
     "start_time": "2025-06-21T04:09:47.833130Z"
    }
   },
   "source": [
    "from langchain_openai import ChatOpenAI\n",
    "\n",
    "llm = ChatOpenAI(model=\"gpt-4o-mini\")"
   ],
   "outputs": [],
   "execution_count": 5
  },
  {
   "cell_type": "markdown",
   "id": "d373482d-492a-40df-b0ac-131ed70c5259",
   "metadata": {},
   "source": [
    "If you are using the pre-loaded poetry shell, you do not need to install the following package because it is already pre-loaded for you:"
   ]
  },
  {
   "cell_type": "code",
   "id": "bc942a2e-b9d3-4f5f-a612-f212cacc8bdd",
   "metadata": {},
   "source": [
    "#!pip install langchain-community"
   ],
   "outputs": [],
   "execution_count": null
  },
  {
   "cell_type": "markdown",
   "id": "85a99a77-abc6-412a-b9dc-651e00fe5867",
   "metadata": {},
   "source": [
    "## Connect with the database\n",
    "* In this example we will use a SQLite connection with the `street_tree_db` database we have in the `data` folder.\n",
    "* **Remember to download the data folder from the Github repository**.\n",
    "* The `data` folder must be in the root directory of this app.\n",
    "* We can interface with the database using the SQLAlchemy-driven `SQLDatabase` class:"
   ]
  },
  {
   "cell_type": "code",
   "id": "ae1ca291-4c3f-47a6-8854-42d2ac953c15",
   "metadata": {
    "ExecuteTime": {
     "end_time": "2025-06-21T04:10:42.989507Z",
     "start_time": "2025-06-21T04:10:42.678701Z"
    }
   },
   "source": [
    "from langchain_community.utilities import SQLDatabase\n",
    "\n",
    "sqlite_db_path = \"data/street_tree_db.sqlite\"\n",
    "\n",
    "db = SQLDatabase.from_uri(f\"sqlite:///{sqlite_db_path}\")"
   ],
   "outputs": [],
   "execution_count": 6
  },
  {
   "cell_type": "markdown",
   "id": "c39a7a0a-059c-496f-91ee-1303aa1bb6ae",
   "metadata": {},
   "source": [
    "We can create a simple chain that takes a question and does the following:\n",
    "* Convert the question into a SQL query;\n",
    "* Execute the query;\n",
    "* Use the result to answer the original question.\n",
    "\n",
    "The first step in a SQL chain is to take the user input and convert it to a SQL query. LangChain comes with a **built-in chain** for this, `create_sql_query_chain`:"
   ]
  },
  {
   "cell_type": "markdown",
   "id": "5ea9f155-cacc-41ad-bce8-1d9ceb318329",
   "metadata": {},
   "source": [
    "#### Step 1: Translating a question in natural language into an SQL query."
   ]
  },
  {
   "cell_type": "code",
   "id": "bd9b7787-2076-4d6a-94ad-8c815fb1ff61",
   "metadata": {
    "ExecuteTime": {
     "end_time": "2025-06-21T04:23:16.460660Z",
     "start_time": "2025-06-21T04:23:15.400029Z"
    }
   },
   "source": [
    "from langchain.chains import create_sql_query_chain\n",
    "\n",
    "chain = create_sql_query_chain(llm, db)\n",
    "\n",
    "response = chain.invoke({\"question\": \"How many species of trees are in San Francisco? Give the count\"})\n",
    "\n",
    "response"
   ],
   "outputs": [
    {
     "data": {
      "text/plain": [
       "'```sql\\nSQLQuery: SELECT COUNT(DISTINCT \"qSpecies\") AS \"SpeciesCount\" FROM street_trees;\\n```'"
      ]
     },
     "execution_count": 16,
     "metadata": {},
     "output_type": "execute_result"
    }
   ],
   "execution_count": 16
  },
  {
   "metadata": {
    "ExecuteTime": {
     "end_time": "2025-06-21T04:29:57.029482Z",
     "start_time": "2025-06-21T04:29:57.019192Z"
    }
   },
   "cell_type": "code",
   "source": [
    "def clean_sql_response(response: str) -> str:\n",
    "    # Quitar el bloque de código Markdown (```sql ... ```)\n",
    "    if response.startswith(\"```sql\"):\n",
    "        response = response.strip(\"`\").split(\"\\n\", 1)[1]  # Quita primera línea (```sql)\n",
    "        response = response.rsplit(\"\\n\", 1)[0]  # Quita última línea (```)\n",
    "\n",
    "    # Quitar prefijo SQLQuery:\n",
    "    if response.strip().startswith(\"SQLQuery:\"):\n",
    "        response = response.strip()[len(\"SQLQuery:\"):].strip()\n",
    "\n",
    "    return response"
   ],
   "id": "d2d0769e56749898",
   "outputs": [],
   "execution_count": 27
  },
  {
   "metadata": {
    "ExecuteTime": {
     "end_time": "2025-06-21T04:31:15.049491Z",
     "start_time": "2025-06-21T04:31:15.043789Z"
    }
   },
   "cell_type": "code",
   "source": "clean_sql_response(response)",
   "id": "862231d1ddd261a1",
   "outputs": [
    {
     "data": {
      "text/plain": [
       "'SELECT COUNT(DISTINCT \"qSpecies\") AS \"SpeciesCount\" FROM street_trees;'"
      ]
     },
     "execution_count": 30,
     "metadata": {},
     "output_type": "execute_result"
    }
   ],
   "execution_count": 30
  },
  {
   "cell_type": "markdown",
   "id": "c0c5f7fa-0147-423f-8793-22fdbdacdd29",
   "metadata": {},
   "source": [
    "* We can execute the query to make sure it's valid:"
   ]
  },
  {
   "cell_type": "code",
   "id": "3b598141-a7c3-4209-b0cf-626b28d677b4",
   "metadata": {
    "ExecuteTime": {
     "end_time": "2025-06-21T04:31:54.617665Z",
     "start_time": "2025-06-21T04:31:54.590108Z"
    }
   },
   "source": "db.run(clean_sql_response(response))",
   "outputs": [
    {
     "data": {
      "text/plain": [
       "'[(148,)]'"
      ]
     },
     "execution_count": 32,
     "metadata": {},
     "output_type": "execute_result"
    }
   ],
   "execution_count": 32
  },
  {
   "cell_type": "markdown",
   "id": "71188e6d-8b78-4162-804a-918d54449b17",
   "metadata": {},
   "source": [
    "* We can also inspect the chain directly for its prompts. Pay attention to the second paragraph, where it says: **\"Unless the user specifies in the question a specific number of examples to obtain, query for at most 5 results using the LIMIT clause as per SQLite. You can order the results to return the most informative data in the database.\"** This is a limitation and if it is not handled well can cause errors."
   ]
  },
  {
   "cell_type": "code",
   "id": "01fe095e-a138-4d5e-a02a-14c6d38d1786",
   "metadata": {
    "ExecuteTime": {
     "end_time": "2025-06-21T04:21:53.402202Z",
     "start_time": "2025-06-21T04:21:53.348036Z"
    }
   },
   "source": [
    "chain.get_prompts()[0].pretty_print()"
   ],
   "outputs": [
    {
     "name": "stdout",
     "output_type": "stream",
     "text": [
      "You are a SQLite expert. Given an input question, first create a syntactically correct SQLite query to run, then look at the results of the query and return the answer to the input question.\n",
      "Unless the user specifies in the question a specific number of examples to obtain, query for at most 5 results using the LIMIT clause as per SQLite. You can order the results to return the most informative data in the database.\n",
      "Never query for all columns from a table. You must query only the columns that are needed to answer the question. Wrap each column name in double quotes (\") to denote them as delimited identifiers.\n",
      "Pay attention to use only the column names you can see in the tables below. Be careful to not query for columns that do not exist. Also, pay attention to which column is in which table.\n",
      "Pay attention to use date('now') function to get the current date, if the question involves \"today\".\n",
      "\n",
      "Use the following format:\n",
      "\n",
      "Question: Question here\n",
      "SQLQuery: SQL Query to run\n",
      "SQLResult: Result of the SQLQuery\n",
      "Answer: Final answer here\n",
      "\n",
      "Only use the following tables:\n",
      "\u001B[33;1m\u001B[1;3m{table_info}\u001B[0m\n",
      "\n",
      "Question: \u001B[33;1m\u001B[1;3m{input}\u001B[0m\n"
     ]
    }
   ],
   "execution_count": 14
  },
  {
   "cell_type": "markdown",
   "id": "a2eab168-ba8d-410f-a158-631d87edb2d9",
   "metadata": {},
   "source": [
    "#### Step 2: Executing the SQL query."
   ]
  },
  {
   "cell_type": "markdown",
   "id": "71ef39e5-1b37-4673-aa4c-951fbb3e6e3f",
   "metadata": {},
   "source": [
    "* Now that we've generated a SQL query, we'll want to execute it.\n",
    "* When you are in production, consider carefully if it is OK to run automated queries over your data. Minimize the database connection permissions as much as possible. Consider adding a human approval step to you chains before query execution.\n",
    "* We can **use the QuerySQLDatabaseTool to easily add query execution to our chain**:\n",
    "    * The user asks a question.\n",
    "    * The write_query chain has que question as input and the SQL query as output.\n",
    "    * The execute_query chain has the SQL query as input and the SQL query execution as output."
   ]
  },
  {
   "cell_type": "code",
   "id": "3e849055-8d6b-49ed-b8b3-aeb95e04b208",
   "metadata": {
    "ExecuteTime": {
     "end_time": "2025-06-21T04:42:46.772158Z",
     "start_time": "2025-06-21T04:42:46.699674Z"
    }
   },
   "source": [
    "from langchain_community.tools.sql_database.tool import QuerySQLDataBaseTool\n",
    "\n",
    "write_query = create_sql_query_chain(llm, db)\n",
    "write_query_1 = clean_sql_response(write_query)\n",
    "\n",
    "execute_query = QuerySQLDataBaseTool(db=db)\n",
    "\n",
    "chain = write_query_1| execute_query\n",
    "\n",
    "chain.invoke({\"question\": \"List the species of trees that are present in San Francisco\"})"
   ],
   "outputs": [
    {
     "ename": "AttributeError",
     "evalue": "'RunnableSequence' object has no attribute 'startswith'",
     "output_type": "error",
     "traceback": [
      "\u001B[31m---------------------------------------------------------------------------\u001B[39m",
      "\u001B[31mAttributeError\u001B[39m                            Traceback (most recent call last)",
      "\u001B[36mCell\u001B[39m\u001B[36m \u001B[39m\u001B[32mIn[39]\u001B[39m\u001B[32m, line 4\u001B[39m\n\u001B[32m      1\u001B[39m \u001B[38;5;28;01mfrom\u001B[39;00m\u001B[38;5;250m \u001B[39m\u001B[34;01mlangchain_community\u001B[39;00m\u001B[34;01m.\u001B[39;00m\u001B[34;01mtools\u001B[39;00m\u001B[34;01m.\u001B[39;00m\u001B[34;01msql_database\u001B[39;00m\u001B[34;01m.\u001B[39;00m\u001B[34;01mtool\u001B[39;00m\u001B[38;5;250m \u001B[39m\u001B[38;5;28;01mimport\u001B[39;00m QuerySQLDataBaseTool\n\u001B[32m      3\u001B[39m write_query = create_sql_query_chain(llm, db)\n\u001B[32m----> \u001B[39m\u001B[32m4\u001B[39m write_query_1 = \u001B[43mclean_sql_response\u001B[49m\u001B[43m(\u001B[49m\u001B[43mwrite_query\u001B[49m\u001B[43m)\u001B[49m\n\u001B[32m      6\u001B[39m execute_query = QuerySQLDataBaseTool(db=db)\n\u001B[32m      8\u001B[39m chain = write_query_1| execute_query\n",
      "\u001B[36mCell\u001B[39m\u001B[36m \u001B[39m\u001B[32mIn[27]\u001B[39m\u001B[32m, line 3\u001B[39m, in \u001B[36mclean_sql_response\u001B[39m\u001B[34m(response)\u001B[39m\n\u001B[32m      1\u001B[39m \u001B[38;5;28;01mdef\u001B[39;00m\u001B[38;5;250m \u001B[39m\u001B[34mclean_sql_response\u001B[39m(response: \u001B[38;5;28mstr\u001B[39m) -> \u001B[38;5;28mstr\u001B[39m:\n\u001B[32m      2\u001B[39m     \u001B[38;5;66;03m# Quitar el bloque de código Markdown (```sql ... ```)\u001B[39;00m\n\u001B[32m----> \u001B[39m\u001B[32m3\u001B[39m     \u001B[38;5;28;01mif\u001B[39;00m \u001B[43mresponse\u001B[49m\u001B[43m.\u001B[49m\u001B[43mstartswith\u001B[49m(\u001B[33m\"\u001B[39m\u001B[33m```sql\u001B[39m\u001B[33m\"\u001B[39m):\n\u001B[32m      4\u001B[39m         response = response.strip(\u001B[33m\"\u001B[39m\u001B[33m`\u001B[39m\u001B[33m\"\u001B[39m).split(\u001B[33m\"\u001B[39m\u001B[38;5;130;01m\\n\u001B[39;00m\u001B[33m\"\u001B[39m, \u001B[32m1\u001B[39m)[\u001B[32m1\u001B[39m]  \u001B[38;5;66;03m# Quita primera línea (```sql)\u001B[39;00m\n\u001B[32m      5\u001B[39m         response = response.rsplit(\u001B[33m\"\u001B[39m\u001B[38;5;130;01m\\n\u001B[39;00m\u001B[33m\"\u001B[39m, \u001B[32m1\u001B[39m)[\u001B[32m0\u001B[39m]  \u001B[38;5;66;03m# Quita última línea (```)\u001B[39;00m\n",
      "\u001B[36mFile \u001B[39m\u001B[32m~/.pyenv/versions/3.11.4/lib/python3.11/site-packages/pydantic/main.py:991\u001B[39m, in \u001B[36mBaseModel.__getattr__\u001B[39m\u001B[34m(self, item)\u001B[39m\n\u001B[32m    988\u001B[39m     \u001B[38;5;28;01mreturn\u001B[39;00m \u001B[38;5;28msuper\u001B[39m().\u001B[34m__getattribute__\u001B[39m(item)  \u001B[38;5;66;03m# Raises AttributeError if appropriate\u001B[39;00m\n\u001B[32m    989\u001B[39m \u001B[38;5;28;01melse\u001B[39;00m:\n\u001B[32m    990\u001B[39m     \u001B[38;5;66;03m# this is the current error\u001B[39;00m\n\u001B[32m--> \u001B[39m\u001B[32m991\u001B[39m     \u001B[38;5;28;01mraise\u001B[39;00m \u001B[38;5;167;01mAttributeError\u001B[39;00m(\u001B[33mf\u001B[39m\u001B[33m'\u001B[39m\u001B[38;5;132;01m{\u001B[39;00m\u001B[38;5;28mtype\u001B[39m(\u001B[38;5;28mself\u001B[39m).\u001B[34m__name__\u001B[39m\u001B[38;5;132;01m!r}\u001B[39;00m\u001B[33m object has no attribute \u001B[39m\u001B[38;5;132;01m{\u001B[39;00mitem\u001B[38;5;132;01m!r}\u001B[39;00m\u001B[33m'\u001B[39m)\n",
      "\u001B[31mAttributeError\u001B[39m: 'RunnableSequence' object has no attribute 'startswith'"
     ]
    }
   ],
   "execution_count": 39
  },
  {
   "metadata": {
    "ExecuteTime": {
     "end_time": "2025-06-21T04:45:53.370883Z",
     "start_time": "2025-06-21T04:45:52.586061Z"
    }
   },
   "cell_type": "code",
   "source": [
    "from langchain_core.runnables import RunnableLambda\n",
    "from langchain_community.tools.sql_database.tool import QuerySQLDataBaseTool\n",
    "\n",
    "write_query_chain = create_sql_query_chain(llm, db)\n",
    "execute_query = QuerySQLDataBaseTool(db=db)\n",
    "\n",
    "clean_and_run = (\n",
    "    write_query_chain\n",
    "    | RunnableLambda(clean_sql_response)\n",
    "    | RunnableLambda(execute_query.run)\n",
    ")\n",
    "\n",
    "response = clean_and_run.invoke({\"question\": \"List the species of trees that are present in San Francisco\"})\n",
    "print(response)\n"
   ],
   "id": "e037e6d2ce451cbe",
   "outputs": [
    {
     "name": "stdout",
     "output_type": "stream",
     "text": [
      "[(\"Arbutus 'Marina' :: Hybrid Strawberry Tree\",), ('Afrocarpus gracilior :: Fern Pine',), (\"Thuja occidentalis 'Emerald' :: Emerald Arborvitae\",), (\"Magnolia grandiflora 'Little Gem' :: Little Gem Magnolia\",), ('Platanus x hispanica :: Sycamore: London Plane',)]\n"
     ]
    }
   ],
   "execution_count": 40
  },
  {
   "cell_type": "markdown",
   "id": "5998cea6-43ff-4376-9a83-618995ee36a6",
   "metadata": {},
   "source": [
    "#### Step 3: Translate the SQL response into a natural language response"
   ]
  },
  {
   "cell_type": "markdown",
   "id": "f52988b3-93fd-4190-b6a5-0755fe28ecf9",
   "metadata": {},
   "source": [
    "* Now that we've got a way to generate and execute queries, we need to **combine the original question and SQL query result with the chat model to generate a final answer in natural language**.\n",
    "* We can do this by passing question and result to the LLM like this:"
   ]
  },
  {
   "cell_type": "code",
   "id": "d24dee97-465f-4979-9afe-79e0b7eb6f3f",
   "metadata": {
    "ExecuteTime": {
     "end_time": "2025-06-21T06:16:15.731479Z",
     "start_time": "2025-06-21T06:16:00.509238Z"
    }
   },
   "source": [
    "from operator import itemgetter\n",
    "\n",
    "from langchain_core.output_parsers import StrOutputParser\n",
    "from langchain_core.prompts import PromptTemplate\n",
    "from langchain_core.runnables import RunnablePassthrough\n",
    "\n",
    "sqlite_db_path = \"data/street_tree_db.sqlite\"\n",
    "\n",
    "db = SQLDatabase.from_uri(f\"sqlite:///{sqlite_db_path}\")\n",
    "\n",
    "llm = ChatOpenAI(model=\"gpt-3.5-turbo\")\n",
    "\n",
    "answer_prompt = PromptTemplate.from_template(\n",
    "    \"\"\"Given the following user question, \n",
    "    corresponding SQL query, and SQL result, \n",
    "    answer the user question.\n",
    "\n",
    "Question: {question}\n",
    "SQL Query: {query}\n",
    "SQL Result: {result}\n",
    "Answer: \"\"\"\n",
    ")\n",
    "\n",
    "write_query = create_sql_query_chain(llm, db)\n",
    "\n",
    "execute_query = QuerySQLDataBaseTool(db=db)\n",
    "\n",
    "#chain = write_query | execute_query\n",
    "\n",
    "#chain.invoke({\"question\": \"List the species of trees that are present in San Francisco\"})\n",
    "\n",
    "chain = (\n",
    "    RunnablePassthrough.assign(query=write_query).assign(\n",
    "        result=itemgetter(\"query\") | execute_query\n",
    "    )\n",
    "    | answer_prompt\n",
    "    | llm\n",
    "    | StrOutputParser()\n",
    ")\n",
    "\n",
    "chain.invoke({\"question\": \"List the species of trees that are present in San Francisco\"})"
   ],
   "outputs": [
    {
     "data": {
      "text/plain": [
       "\"The species of trees present in San Francisco are as follows: \\n- Arbutus 'Marina' :: Hybrid Strawberry Tree\\n- Afrocarpus gracilior :: Fern Pine\\n- Thuja occidentalis 'Emerald' :: Emerald Arborvitae\\n- Magnolia grandiflora 'Little Gem' :: Little Gem Magnolia\\n- Platanus x hispanica :: Sycamore: London Plane\\n- Ulmus parvifolia :: Chinese Elm\\n- Leptospermum laevigatum :: Australian Tea Tree\\n- Olea europaea 'Fruitless' :: Fruitless Olive\\n- Ficus rubiginosa :: Port Jackson Fig\\n- Cycas revoluta :: Sago palm\\n- Lophostemon confertus :: Brisbane Box\\n- Podocarpus gracilor :: Fern Pine\\n- Eriobotrya deflexa :: Bronze Loquat\\n- Ligustrum lucidum :: Glossy Privet\\n- Syagrus romanzoffianum :: Queen Palm\\n- Ficus microcarpa nitida 'Green Gem' :: Indian Laurel Fig Tree 'Green Gem'\\n- Prunus cerasifera :: Cherry Plum\\n- Myoporum laetum :: Myoporum\\n- Tristanopsis laurina :: Swamp Myrtle\\n- Ginkgo biloba :: Maidenhair Tree\\n- Pyrus calleryana :: Ornamental Pear\\n- Morus alba 'Fruitless' :: Fruitless Mulberry\\n- Magnolia grandiflora :: Southern Magnolia\\n- Pittosporum undulatum :: Victorian Box\\n- Lyonothamnus floribundus subsp. asplenifolius :: Santa Cruz Ironwood\\n- Leptospermum scoparium :: New Zealand Tea Tree\\n- Acer rubrum :: Red Maple\\n- Carpinus betulus :: European Hornbeam\\n- Ilex aquifolium :: European Holly\\n- Lagunaria patersonii :: Primrose Tree\\n- Pinus radiata :: Monterey Pine\\n- Prunus laurocerasus :: English laurel\\n- Cercis occidentalis :: Western Redbud\\n- Prunus serrulata :: Ornamental Cherry\\n- Maytenus boaria :: Mayten\\n- Arbutus unedo :: Strawberry Tree\\n- Callistemon citrinus :: Lemon Bottlebrush\\n- Cordyline australis :: Dracena Palm\\n- Quercus suber :: Cork Oak\\n- Pseudotsuga menziesii :: Douglas Fir\\n- Quercus agrifolia :: Coast Live Oak\\n- Olea Majestic Beauty\\n- Platanus racemosa :: California Sycamore\\n- Metrosideros excelsa :: New Zealand Xmas Tree\\n- Quercus tomentella :: Island oak\\n- Olea europaea :: Olive Tree\\n- Quercus spp :: Oak\\n- Platanus occidentalis :: American sycamore\\n- Hakea suaveolens :: Sweet Hakea Tree\\n- Acacia melanoxylon :: Blackwood Acacia\\n- Ligustrum japonicum :: Japanese Privet\\n- Liquidambar styraciflua :: American Sweet Gum\\n- Prunus subhirtella 'autumnalis' :: Higan Cherry\\n- Acer palmatum :: Japanese Maple\\n- Juniperus chinensis :: Juniper\\n- Ficus retusa nitida :: Banyan Fig\\n- Acacia decurrens :: Acacia: Silver Wattle\\n- Cupressus macrocarpa :: Monterey Cypress\\n- Archontophoenix cunninghamiana :: King Palm\\n- Rhamnus alaternus :: Italian Buckthorn\\n- Schinus molle :: California Pepper\\n- Crataegus phaenopyrum :: Washington Hawthorn\\n- Elaeocarpus decipiens :: Japanese Blueberry Tree\\n- Aesculus x carnea :: Red Horse Chestnut\\n- Platanus x hispanica 'Columbia' :: Columbia Hybrid Plane Tree\\n- Eucalyptus camaldulensis :: River Red Gum\\n- Pinus pinea :: Italian Stone Pine\\n- Eucalyptus citriodora :: Lemon scented eucalyptus\\n- Schinus terebinthifolius :: Brazilian Pepper\\n- Magnolia grandiflora 'Saint Mary' :: Saint Mary Magnolia\\n- Magnolia spp :: Magnolia\\n- Phoenix dactylifera :: Date Palm\\n- Pyrus kawakamii :: Evergreen Pear\\n- Corymbia ficifolia :: Red Flowering Gum\\n- Acacia stenophylla :: Shoestring Acacia\\n- Eriobotrya japonica :: Edible Loquat\\n- Hymenosporum flavum :: Sweetshade\\n- Olea europaea 'Wilsonii' :: Wilson Olive Semi-fruitless\\n- Tilia cordata :: Littleleaf Linden\\n- Eucalyptus polyanthemos :: Silver Dollar Eucalyptus\\n- Melaleuca quinquenervia :: Cajeput\\n- Agonis flexuosa :: Peppermint Willow\\n- Koelreuteria paniculata :: Golden Rain Tree\\n- Yucca elephantipes :: Giant Yucca\\n- Populus nigra 'Italica' :: Lombardy Poplar\\n- Eucalyptus globulus :: Blue Gum\\n- Ficus microcarpa :: Chinese Banyan\\n- Acacia baileyana 'Purpurea' :: Purple-leaf Acacia\\n- Acer buergeranum :: Trident Maple\\n- Cinnamomum camphora :: Camphor Tree\\n- Howea belmoreana :: Belmore Sentry Palm\\n- Pinus canariensis :: Canary Island Pine\\n- Ceanothus 'Ray Hartman' :: California Lilac 'Ray Hartman'\\n- Butia catarinensis :: Butia\\n- Acacia spp :: Acacia Spp\\n- Jacaranda mimosifolia :: Jacaranda\\n- Eucalyptus nicholii :: Nichol's Willow-Leafed Peppermint\\n- Acer rubrum 'October Glory' :: Red October Glory Maple\\n- Umbellularia californica :: California Bay\\n- Melaleuca ericifolia :: Heath Melaleuca\\n- Prunus caroliniana :: Carolina Cherry Laurel\\n- Callistemon viminalis :: Weeping Bottlebrush\\n- Tristania conferta\\n- Magnolia champaca :: Champa\\n- Acer rubrum 'Armstrong' :: Armstrong Red Maple\\n- Pyrus calleryana 'Bradford' :: Ornamental Pear: Bradford\\n- Ulmus spp :: Elm Spp\\n- Photinia fraseri :: Photinia: Chinese photinia\\n- Tristaniopsis laurina 'Elegant' :: Small-leaf Tristania 'Elegant'\\n- Quercus virginiana :: Southern Live Oak\\n- Laurus nobilis :: Sweet Bay: Grecian Laurel\\n- Griselinia lucida :: Griselinia\\n- Dodonaea viscosa 'Purpurea' :: Purple Hopseed Bush\\n- Sequoia sempervirens :: Coast Redwood\\n- Ginkgo biloba 'Autumn Gold' :: Ginkgo: Autumn Gold\\n- Ulmus carpinifolia 'Frontier' :: Frontier Elm 'Frontier'\\n- Geijera parviflora :: Australian Willow\\n- Laurus x 'Saratoga' :: Hybrid Laurel\\n- Melaleuca styphelliodes :: Paperbark Tree\\n- Prunus serrulata 'Kwanzan' :: Kwanzan Flowering Cherry\\n- Acer japonicum :: Japanese Maple\\n- Araucaria heterophylla :: Norfolk Island Pine\\n- Washingtonia robusta :: Mexican Fan Palm\\n- Lagerstroemia indica :: Crape Myrtle\\n- Magnolia doltsopa :: Himalayan Magnolia\\n- Syzygium paniculatum :: Brush Cherry\\n- Pinus thunbergii :: Japanese Black Pine\\n- Cercis canadensis :: Eastern Redbud\\n- Eucalyptus Spp :: Eucalyptus\\n- Persea americana :: Avocado\\n- Pistacia chinensis :: Chinese Pistache\\n- Maytenus boaria 'Green Showers' :: Meyten Tree 'Green Showers'\\n- Magnolia grandiflora 'Russet' :: Russet Magnolia\\n- Prunus lyonii :: Catalina Cherry\\n- Aesculus x carnea 'Briotii' :: Ruby Horse Chestnut\\n- Magnolia grandiflora 'Majestic Beauty' :: Majestic Beauty Magnolia\\n- Prunus spp :: Almond Tree\\n- Nerium oleander :: Oleander\\n- Acacia baileyana :: Bailey's Acacia\\n- Grevillea robusta :: Silk Oak Tree\\n- Zelkova serrata :: Sawleaf Zelkova\\n- Fraxinus uhdei :: Shamel Ash: Evergreen Ash\""
      ]
     },
     "execution_count": 106,
     "metadata": {},
     "output_type": "execute_result"
    }
   ],
   "execution_count": 106
  },
  {
   "metadata": {
    "ExecuteTime": {
     "end_time": "2025-06-21T05:04:41.457433Z",
     "start_time": "2025-06-21T05:04:21.975865Z"
    }
   },
   "cell_type": "code",
   "source": [
    "from operator import itemgetter\n",
    "from langchain_core.output_parsers import StrOutputParser\n",
    "from langchain_core.prompts import PromptTemplate\n",
    "from langchain_core.runnables import RunnableLambda\n",
    "from langchain_community.tools.sql_database.tool import QuerySQLDataBaseTool\n",
    "from langchain.sql_database import SQLDatabase\n",
    "from langchain.chains import create_sql_query_chain\n",
    "from langchain_openai import ChatOpenAI\n",
    "\n",
    "# 🧽 Limpia la respuesta SQL generada por el LLM\n",
    "def clean_sql_response(response: str) -> str:\n",
    "    if response.startswith(\"```sql\"):\n",
    "        response = response.strip(\"`\").split(\"\\n\", 1)[1]\n",
    "        response = response.rsplit(\"\\n\", 1)[0]\n",
    "    if response.strip().startswith(\"SQLQuery:\"):\n",
    "        response = response.strip()[len(\"SQLQuery:\"):].strip()\n",
    "    return response\n",
    "\n",
    "# 🧠 Junta pregunta, query y resultado en un solo diccionario\n",
    "def enrich_with_result(question: str) -> dict:\n",
    "    raw_query = write_query.invoke({\"question\": question})\n",
    "    cleaned_query = clean_sql_response(raw_query)\n",
    "    result = execute_query.run(cleaned_query)\n",
    "    return {\n",
    "        \"question\": question,\n",
    "        \"query\": cleaned_query,\n",
    "        \"result\": result\n",
    "    }\n",
    "\n",
    "# 🔧 Configuración\n",
    "sqlite_db_path = \"data/street_tree_db.sqlite\"\n",
    "db = SQLDatabase.from_uri(f\"sqlite:///{sqlite_db_path}\")\n",
    "llm = ChatOpenAI(model=\"gpt-4o-mini\")\n",
    "\n",
    "# 🧠 Prompt para redactar la respuesta final\n",
    "answer_prompt = PromptTemplate.from_template(\n",
    "    \"\"\"Given the following user question,\n",
    "corresponding SQL query, and SQL result,\n",
    "answer the user question.\n",
    "\n",
    "Question: {question}\n",
    "SQL Query: {query}\n",
    "SQL Result: {result}\n",
    "Answer:\"\"\"\n",
    ")\n",
    "\n",
    "# 🔧 Subchains\n",
    "write_query = create_sql_query_chain(llm, db)\n",
    "execute_query = QuerySQLDataBaseTool(db=db)\n",
    "\n",
    "# 🔗 Cadena final como Runnable\n",
    "final_chain = (\n",
    "    RunnableLambda(enrich_with_result)\n",
    "    | answer_prompt\n",
    "    | llm\n",
    "    | StrOutputParser()\n",
    ")\n",
    "\n",
    "# 🧪 Prueba\n",
    "response = final_chain.invoke(\"List the species of trees that are present in San Francisco. Don't limit the answer to 5\")\n",
    "print(response)\n"
   ],
   "id": "e434c3e03c6caf31",
   "outputs": [
    {
     "name": "stdout",
     "output_type": "stream",
     "text": [
      "The species of trees that are present in San Francisco include:\n",
      "\n",
      "- Arbutus 'Marina' :: Hybrid Strawberry Tree\n",
      "- Afrocarpus gracilior :: Fern Pine\n",
      "- Thuja occidentalis 'Emerald' :: Emerald Arborvitae\n",
      "- Magnolia grandiflora 'Little Gem' :: Little Gem Magnolia\n",
      "- Platanus x hispanica :: Sycamore: London Plane\n",
      "- Ulmus parvifolia :: Chinese Elm\n",
      "- Leptospermum laevigatum :: Australian Tea Tree\n",
      "- Olea europaea 'Fruitless' :: Fruitless Olive\n",
      "- Ficus rubiginosa :: Port Jackson Fig\n",
      "- Cycas revoluta :: Sago palm\n",
      "- Lophostemon confertus :: Brisbane Box\n",
      "- Podocarpus gracilor :: Fern Pine\n",
      "- Eriobotrya deflexa :: Bronze Loquat\n",
      "- Ligustrum lucidum :: Glossy Privet\n",
      "- Syagrus romanzoffianum :: Queen Palm\n",
      "- Ficus microcarpa nitida 'Green Gem' :: Indian Laurel Fig Tree 'Green Gem'\n",
      "- Prunus cerasifera :: Cherry Plum\n",
      "- Myoporum laetum :: Myoporum\n",
      "- Tristaniopsis laurina :: Swamp Myrtle\n",
      "- Ginkgo biloba :: Maidenhair Tree\n",
      "- Pyrus calleryana :: Ornamental Pear\n",
      "- Morus alba 'Fruitless' :: Fruitless Mulberry\n",
      "- Magnolia grandiflora :: Southern Magnolia\n",
      "- Pittosporum undulatum :: Victorian Box\n",
      "- Lyonothamnus floribundus subsp. asplenifolius :: Santa Cruz Ironwood\n",
      "- Leptospermum scoparium :: New Zealand Tea Tree\n",
      "- Acer rubrum :: Red Maple\n",
      "- Carpinus betulus :: European Hornbeam\n",
      "- Ilex aquifolium :: European Holly\n",
      "- Lagunaria patersonii :: Primrose Tree\n",
      "- Pinus radiata :: Monterey Pine\n",
      "- Prunus laurocerasus :: English laurel\n",
      "- Cercis occidentalis :: Western Redbud\n",
      "- Prunus serrulata :: Ornamental Cherry\n",
      "- Maytenus boaria :: Mayten\n",
      "- Arbutus unedo :: Strawberry Tree\n",
      "- Callistemon citrinus :: Lemon Bottlebrush\n",
      "- Cordyline australis :: Dracena Palm\n",
      "- Quercus suber :: Cork Oak\n",
      "- Pseudotsuga menziesii :: Douglas Fir\n",
      "- Quercus agrifolia :: Coast Live Oak\n",
      "- Platanus racemosa :: California Sycamore\n",
      "- Metrosideros excelsa :: New Zealand Xmas Tree\n",
      "- Quercus tomentella :: Island oak\n",
      "- Olea europaea :: Olive Tree\n",
      "- Platanus occidentalis :: American sycamore\n",
      "- Hakea suaveolens :: Sweet Hakea Tree\n",
      "- Acacia melanoxylon :: Blackwood Acacia\n",
      "- Ligustrum japonicum :: Japanese Privet\n",
      "- Liquidambar styraciflua :: American Sweet Gum\n",
      "- Acer palmatum :: Japanese Maple\n",
      "- Juniperus chinensis :: Juniper\n",
      "- Ficus retusa nitida :: Banyan Fig\n",
      "- Cupressus macrocarpa :: Monterey Cypress\n",
      "- Archontophoenix cunninghamiana :: King Palm\n",
      "- Rhamnus alaternus :: Italian Buckthorn\n",
      "- Schinus molle :: California Pepper\n",
      "- Crataegus phaenopyrum :: Washington Hawthorn\n",
      "- Eucalyptus camaldulensis :: River Red Gum\n",
      "- Pinus pinea :: Italian Stone Pine\n",
      "- Eucalyptus citriodora :: Lemon scented eucalyptus\n",
      "- Schinus terebinthifolius :: Brazilian Pepper\n",
      "- Magnolia spp :: Magnolia\n",
      "- Pyrus kawakamii :: Evergreen Pear\n",
      "- Corymbia ficifolia :: Red Flowering Gum\n",
      "- Acacia stenophylla :: Shoestring Acacia\n",
      "- Eriobotrya japonica :: Edible Loquat\n",
      "- Hymenosporum flavum :: Sweetshade\n",
      "- Tilia cordata :: Littleleaf Linden\n",
      "- Eucalyptus polyanthemos :: Silver Dollar Eucalyptus\n",
      "- Agonis flexuosa :: Peppermint Willow\n",
      "- Koelreuteria paniculata :: Golden Rain Tree\n",
      "- Yucca elephantipes :: Giant Yucca\n",
      "- Eucalyptus globulus :: Blue Gum\n",
      "- Ficus microcarpa :: Chinese Banyan\n",
      "- Acer buergeranum :: Trident Maple\n",
      "- Cinnamomum camphora :: Camphor Tree\n",
      "- Howea belmoreana :: Belmore Sentry Palm\n",
      "- Butia catarinensis :: Butia\n",
      "- Jacaranda mimosifolia :: Jacaranda\n",
      "- Umbellularia californica :: California Bay\n",
      "- Melaleuca ericifolia :: Heath Melaleuca\n",
      "- Callistemon viminalis :: Weeping Bottlebrush\n",
      "- Quercus virginiana :: Southern Live Oak\n",
      "- Laurus nobilis :: Sweet Bay: Grecian Laurel\n",
      "- Griselinia lucida :: Griselinia\n",
      "- Dodonaea viscosa 'Purpurea' :: Purple Hopseed Bush\n",
      "- Sequoia sempervirens :: Coast Redwood\n",
      "- Ginkgo biloba 'Autumn Gold' :: Ginkgo: Autumn Gold\n",
      "- Ulmus carpinifolia 'Frontier' :: Frontier Elm 'Frontier'\n",
      "- Geijera parviflora :: Australian Willow\n",
      "- Laurus x 'Saratoga' :: Hybrid Laurel\n",
      "- Melaleuca styphelliodes :: Paperbark Tree\n",
      "- Prunus serrulata 'Kwanzan' :: Kwanzan Flowering Cherry\n",
      "- Acer japonicum :: Japanese Maple\n",
      "- Araucaria heterophylla :: Norfolk Island Pine\n",
      "- Washingtonia robusta :: Mexican Fan Palm\n",
      "- Lagerstroemia indica :: Crape Myrtle\n",
      "- Magnolia doltsopa :: Himalayan Magnolia\n",
      "- Syzygium paniculatum :: Brush Cherry\n",
      "- Pinus thunbergii :: Japanese Black Pine\n",
      "- Cercis canadensis :: Eastern Redbud\n",
      "- Eucalyptus Spp :: Eucalyptus\n",
      "- Persea americana :: Avocado\n",
      "- Pistacia chinensis :: Chinese Pistache\n",
      "- Maytenus boaria 'Green Showers' :: Meyten Tree 'Green Showers'\n",
      "- Magnolia grandiflora 'Majestic Beauty' :: Majestic Beauty Magnolia\n",
      "- Prunus spp :: Almond Tree\n",
      "- Nerium oleander :: Oleander\n",
      "- Acacia baileyana :: Bailey's Acacia\n",
      "- Grevillea robusta :: Silk Oak Tree\n",
      "- Zelkova serrata :: Sawleaf Zelkova\n",
      "- Fraxinus uhdei :: Shamel Ash: Evergreen Ash\n",
      "\n",
      "This comprehensive list includes a wide variety of tree species found in San Francisco.\n"
     ]
    }
   ],
   "execution_count": 46
  },
  {
   "metadata": {
    "ExecuteTime": {
     "end_time": "2025-06-21T05:11:00.012267Z",
     "start_time": "2025-06-21T05:10:56.500650Z"
    }
   },
   "cell_type": "code",
   "source": [
    "from operator import itemgetter\n",
    "from langchain_core.output_parsers import StrOutputParser\n",
    "from langchain_core.prompts import PromptTemplate\n",
    "from langchain_core.runnables import RunnableLambda\n",
    "from langchain_community.tools.sql_database.tool import QuerySQLDataBaseTool\n",
    "from langchain.sql_database import SQLDatabase\n",
    "from langchain.chains import create_sql_query_chain\n",
    "from langchain_openai import ChatOpenAI\n",
    "\n",
    "parser = StrOutputParser()\n",
    "\n",
    "# 🔧 Configuración\n",
    "sqlite_db_path = \"data/street_tree_db.sqlite\"\n",
    "db = SQLDatabase.from_uri(f\"sqlite:///{sqlite_db_path}\")\n",
    "llm = ChatOpenAI(model=\"gpt-4o-mini\")\n",
    "\n",
    "# 🤖 Prompt para construir la respuesta\n",
    "answer_prompt = PromptTemplate.from_template(\n",
    "    \"\"\"Given the following user question,\n",
    "corresponding SQL query, and SQL result,\n",
    "answer the user question.\n",
    "\n",
    "Question: {question}\n",
    "SQL Query: {query}\n",
    "SQL Result: {result}\n",
    "Answer:\"\"\"\n",
    ")\n",
    "\n",
    "# 🧽 Función para limpiar respuesta SQL generada\n",
    "def clean_sql_response(response: str) -> str:\n",
    "    if response.startswith(\"```sql\"):\n",
    "        response = response.strip(\"`\").split(\"\\n\", 1)[1]\n",
    "        response = response.rsplit(\"\\n\", 1)[0]\n",
    "    if response.strip().startswith(\"SQLQuery:\"):\n",
    "        response = response.strip()[len(\"SQLQuery:\"):].strip()\n",
    "    return response\n",
    "\n",
    "# ⛓ Subchains\n",
    "write_query = create_sql_query_chain(llm, db)\n",
    "execute_query = QuerySQLDataBaseTool(db=db)\n",
    "\n",
    "# 🔁 Función principal que ejecuta todo el flujo y retorna dict estructurado\n",
    "def pipeline(question: str) -> dict:\n",
    "    raw_query = write_query.invoke({\"question\": question})\n",
    "    cleaned_query = clean_sql_response(raw_query)\n",
    "    result = execute_query.run(cleaned_query)\n",
    "\n",
    "    # Construye respuesta con LLM\n",
    "    final_prompt = answer_prompt.format(\n",
    "        question=question,\n",
    "        query=cleaned_query,\n",
    "        result=result\n",
    "    )\n",
    "    answer = llm.invoke(final_prompt).content\n",
    "\n",
    "    return {\n",
    "        \"query\": cleaned_query,\n",
    "        \"result\": result,\n",
    "        \"answer\": answer\n",
    "    }\n",
    "\n",
    "# 🔗 Runnable final\n",
    "final_chain = RunnableLambda(pipeline)\n",
    "\n",
    "# 🧪 Ejemplo\n",
    "response = final_chain.invoke(\"List the species of trees that are present in San Francisco\")\n",
    "print(response)\n"
   ],
   "id": "dfa0fe7ca8c49792",
   "outputs": [
    {
     "name": "stdout",
     "output_type": "stream",
     "text": [
      "{'query': 'SELECT DISTINCT \"qSpecies\" FROM street_trees ORDER BY \"qSpecies\" LIMIT 5;', 'result': '[(\\'::\\',), (\\':: To Be Determine\\',), (\\':: Tree\\',), (\"Acacia baileyana \\'Purpurea\\' :: Purple-leaf Acacia\",), (\"Acacia baileyana :: Bailey\\'s Acacia\",)]', 'answer': 'The species of trees present in San Francisco include:\\n\\n1. \\'::\\' (unknown or unspecified species)\\n2. \\':: To Be Determine\\' (species not yet determined)\\n3. \\':: Tree\\' (generic term or unspecified type)\\n4. \"Acacia baileyana \\'Purpurea\\' :: Purple-leaf Acacia\"\\n5. \"Acacia baileyana :: Bailey\\'s Acacia\" \\n\\nPlease note that some entries may appear to be placeholder names or unspecified species.'}\n"
     ]
    }
   ],
   "execution_count": 47
  },
  {
   "metadata": {
    "ExecuteTime": {
     "end_time": "2025-06-21T06:03:55.589103Z",
     "start_time": "2025-06-21T06:03:06.580361Z"
    }
   },
   "cell_type": "code",
   "source": [
    "from operator import itemgetter\n",
    "from langchain_core.output_parsers import StrOutputParser\n",
    "from langchain_core.prompts import PromptTemplate\n",
    "from langchain_core.runnables import RunnableLambda\n",
    "from langchain_community.tools.sql_database.tool import QuerySQLDataBaseTool\n",
    "from langchain.sql_database import SQLDatabase\n",
    "from langchain.chains import create_sql_query_chain\n",
    "from langchain_openai import ChatOpenAI\n",
    "\n",
    "parser = StrOutputParser()\n",
    "\n",
    "# 🔧 Configuración\n",
    "sqlite_db_path = \"data/street_tree_db.sqlite\"\n",
    "db = SQLDatabase.from_uri(f\"sqlite:///{sqlite_db_path}\")\n",
    "llm = ChatOpenAI(model=\"gpt-4o-mini\")\n",
    "\n",
    "# 🤖 Prompt para construir la respuesta\n",
    "answer_prompt = PromptTemplate.from_template(\n",
    "    \"\"\"Given the following user question,\n",
    "corresponding SQL query, and SQL result,\n",
    "answer the user question.\n",
    "\n",
    "Question: {question}\n",
    "SQL Query: {query}\n",
    "SQL Result: {result}\n",
    "Answer:\"\"\"\n",
    ")\n",
    "\n",
    "# 🧽 Función para limpiar respuesta SQL generada\n",
    "def clean_sql_response(response: str) -> str:\n",
    "    response = response.strip()\n",
    "\n",
    "    # Eliminar bloque de código markdown ```sql ... ```\n",
    "    if response.startswith(\"```sql\"):\n",
    "        lines = response.splitlines()\n",
    "        lines = [line for line in lines if not line.strip().startswith(\"```\")]\n",
    "        response = \"\\n\".join(lines)\n",
    "\n",
    "    # Eliminar prefijo 'SQLQuery:' si lo incluye\n",
    "    if response.startswith(\"SQLQuery:\"):\n",
    "        response = response[len(\"SQLQuery:\"):].strip()\n",
    "\n",
    "    return response.strip()\n",
    "\n",
    "# ⛓ Subchains\n",
    "write_query = create_sql_query_chain(llm, db)\n",
    "execute_query = QuerySQLDataBaseTool(db=db)\n",
    "\n",
    "# 🔁 Función principal que ejecuta todo el flujo y retorna dict estructurado\n",
    "def pipeline(question: str) -> dict:\n",
    "    raw_query = write_query.invoke({\"question\": question})\n",
    "    cleaned_query = clean_sql_response(raw_query)\n",
    "    try:\n",
    "        result = execute_query.run(cleaned_query)\n",
    "    except Exception as e:\n",
    "        result = f\"[SQL ERROR] {str(e)}\"\n",
    "\n",
    "\n",
    "    # Construye respuesta con LLM\n",
    "    final_prompt = answer_prompt.format(\n",
    "        question=question,\n",
    "        query=cleaned_query,\n",
    "        result=result\n",
    "    )\n",
    "    #llm_response = llm.invoke(final_prompt)\n",
    "    #answer = parser.invoke(llm_response)\n",
    "    answer = (llm | parser).invoke(final_prompt)\n",
    "\n",
    "\n",
    "    return {\n",
    "        \"query\": cleaned_query,\n",
    "        \"result\": result,\n",
    "        \"answer\": answer\n",
    "    }\n",
    "\n",
    "# 🔗 Runnable final\n",
    "final_chain = RunnableLambda(pipeline)\n",
    "\n",
    "# 🧪 Ejemplo\n",
    "response = final_chain.invoke(\"List the species of trees that are present in San Francisco with the number of trees for each species group by the name of the species. show all the results\")\n",
    "#print(response)\n"
   ],
   "id": "c3668eca88449e0e",
   "outputs": [],
   "execution_count": 104
  },
  {
   "metadata": {
    "ExecuteTime": {
     "end_time": "2025-06-21T06:03:58.923528Z",
     "start_time": "2025-06-21T06:03:58.917568Z"
    }
   },
   "cell_type": "code",
   "source": "print(response[\"answer\"])",
   "id": "e8fb62262cc156f2",
   "outputs": [
    {
     "name": "stdout",
     "output_type": "stream",
     "text": [
      "The species of trees present in San Francisco and the corresponding number of trees for each species are as follows:\n",
      "\n",
      "1. `::` - 5 trees\n",
      "2. `:: To Be Determine` - 4 trees\n",
      "3. `:: Tree` - 10 trees\n",
      "4. `Acacia baileyana 'Purpurea' :: Purple-leaf Acacia` - 1 tree\n",
      "5. `Acacia baileyana :: Bailey's Acacia` - 1 tree\n",
      "6. `Acacia decurrens :: Acacia: Silver Wattle` - 1 tree\n",
      "7. `Acacia melanoxylon :: Blackwood Acacia` - 18 trees\n",
      "8. `Acacia spp :: Acacia Spp` - 1 tree\n",
      "9. `Acacia stenophylla :: Shoestring Acacia` - 11 trees\n",
      "10. `Acer buergeranum :: Trident Maple` - 4 trees\n",
      "11. `Acer japonicum :: Japanese Maple` - 1 tree\n",
      "12. `Acer palmatum :: Japanese Maple` - 5 trees\n",
      "13. `Acer rubrum 'Armstrong' :: Armstrong Red Maple` - 1 tree\n",
      "14. `Acer rubrum 'October Glory' :: Red October Glory Maple` - 5 trees\n",
      "15. `Acer rubrum :: Red Maple` - 11 trees\n",
      "16. `Aesculus x carnea 'Briotii' :: Ruby Horse Chestnut` - 1 tree\n",
      "17. `Aesculus x carnea :: Red Horse Chestnut` - 5 trees\n",
      "18. `Afrocarpus gracilior :: Fern Pine` - 4 trees\n",
      "19. `Agonis flexuosa :: Peppermint Willow` - 3 trees\n",
      "20. `Araucaria heterophylla :: Norfolk Island Pine` - 1 tree\n",
      "21. `Arbutus 'Marina' :: Hybrid Strawberry Tree` - 39 trees\n",
      "22. `Arbutus unedo :: Strawberry Tree` - 2 trees\n",
      "23. `Archontophoenix cunninghamiana :: King Palm` - 1 tree\n",
      "24. `Butia catarinensis :: Butia` - 1 tree\n",
      "25. `Callistemon citrinus :: Lemon Bottlebrush` - 12 trees\n",
      "26. `Callistemon viminalis :: Weeping Bottlebrush` - 1 tree\n",
      "27. `Carpinus betulus :: European Hornbeam` - 2 trees\n",
      "28. `Ceanothus 'Ray Hartman' :: California Lilac 'Ray Hartman'` - 4 trees\n",
      "29. `Cercis canadensis :: Eastern Redbud` - 1 tree\n",
      "30. `Cercis occidentalis :: Western Redbud` - 1 tree\n",
      "31. `Cinnamomum camphora :: Camphor Tree` - 9 trees\n",
      "32. `Cordyline australis :: Dracena Palm` - 8 trees\n",
      "33. `Corymbia ficifolia :: Red Flowering Gum` - 4 trees\n",
      "34. `Crataegus phaenopyrum :: Washington Hawthorn` - 1 tree\n",
      "35. `Cupressus macrocarpa :: Monterey Cypress` - 10 trees\n",
      "36. `Cycas revoluta :: Sago palm` - 1 tree\n",
      "37. `Dodonaea viscosa 'Purpurea' :: Purple Hopseed Bush` - 1 tree\n",
      "38. `Elaeocarpus decipiens :: Japanese Blueberry Tree` - 1 tree\n",
      "39. `Eriobotrya deflexa :: Bronze Loquat` - 17 trees\n",
      "40. `Eriobotrya japonica :: Edible Loquat` - 1 tree\n",
      "41. `Eucalyptus Spp :: Eucalyptus` - 3 trees\n",
      "42. `Eucalyptus camaldulensis :: River Red Gum` - 1 tree\n",
      "43. `Eucalyptus citriodora :: Lemon scented eucalyptus` - 81 trees\n",
      "44. `Eucalyptus globulus :: Blue Gum` - 1 tree\n",
      "45. `Eucalyptus nicholii :: Nichol's Willow-Leafed Peppermint` - 2 trees\n",
      "46. `Eucalyptus polyanthemos :: Silver Dollar Eucalyptus` - 3 trees\n",
      "47. `Ficus microcarpa :: Chinese Banyan` - 2 trees\n",
      "48. `Ficus microcarpa nitida 'Green Gem' :: Indian Laurel Fig Tree 'Green Gem'` - 18 trees\n",
      "49. `Ficus retusa nitida :: Banyan Fig` - 2 trees\n",
      "50. `Ficus rubiginosa :: Port Jackson Fig` - 1 tree\n",
      "51. `Fraxinus uhdei :: Shamel Ash: Evergreen Ash` - 1 tree\n",
      "52. `Geijera parviflora :: Australian Willow` - 2 trees\n",
      "53. `Ginkgo biloba 'Autumn Gold' :: Ginkgo: Autumn Gold` - 1 tree\n",
      "54. `Ginkgo biloba :: Maidenhair Tree` - 18 trees\n",
      "55. `Grevillea robusta :: Silk Oak Tree` - 4 trees\n",
      "56. `Griselinia lucida :: Griselinia` - 1 tree\n",
      "57. `Hakea suaveolens :: Sweet Hakea Tree` - 1 tree\n",
      "58. `Howea belmoreana :: Belmore Sentry Palm` - 1 tree\n",
      "59. `Hymenosporum flavum :: Sweetshade` - 11 trees\n",
      "60. `Ilex aquifolium :: European Holly` - 2 trees\n",
      "61. `Jacaranda mimosifolia :: Jacaranda` - 5 trees\n",
      "62. `Juniperus chinensis :: Juniper` - 4 trees\n",
      "63. `Koelreuteria paniculata :: Golden Rain Tree` - 3 trees\n",
      "64. `Lagerstroemia indica :: Crape Myrtle` - 1 tree\n",
      "65. `Lagunaria patersonii :: Primrose Tree` - 9 trees\n",
      "66. `Laurus nobilis :: Sweet Bay: Grecian Laurel` - 7 trees\n",
      "67. `Laurus x 'Saratoga' :: Hybrid Laurel` - 2 trees\n",
      "68. `Leptospermum laevigatum :: Australian Tea Tree` - 5 trees\n",
      "69. `Leptospermum scoparium :: New Zealand Tea Tree` - 1 tree\n",
      "70. `Ligustrum japonicum :: Japanese Privet` - 3 trees\n",
      "71. `Ligustrum lucidum :: Glossy Privet` - 6 trees\n",
      "72. `Liquidambar styraciflua :: American Sweet Gum` - 5 trees\n",
      "73. `Lophostemon confertus :: Brisbane Box` - 91 trees\n",
      "74. `Lyonothamnus floribundus subsp. asplenifolius :: Santa Cruz Ironwood` - 6 trees\n",
      "75. `Magnolia champaca :: Champa` - 2 trees\n",
      "76. `Magnolia doltsopa :: Himalayan Magnolia` - 2 trees\n",
      "77. `Magnolia grandiflora 'Little Gem' :: Little Gem Magnolia` - 21 trees\n",
      "78. `Magnolia grandiflora 'Majestic Beauty' :: Majestic Beauty Magnolia` - 1 tree\n",
      "79. `Magnolia grandiflora 'Russet' :: Russet Magnolia` - 2 trees\n",
      "80. `Magnolia grandiflora 'Saint Mary' :: Saint Mary Magnolia` - 2 trees\n",
      "81. `Magnolia grandiflora :: Southern Magnolia` - 32 trees\n",
      "82. `Magnolia spp :: Magnolia` - 1 tree\n",
      "83. `Maytenus boaria 'Green Showers' :: Meyten Tree 'Green Showers'` - 1 tree\n",
      "84. `Maytenus boaria :: Mayten` - 2 trees\n",
      "85. `Melaleuca ericifolia :: Heath Melaleuca` - 1 tree\n",
      "86. `Melaleuca quinquenervia :: Cajeput` - 2 trees\n",
      "87. `Melaleuca styphelliodes :: Paperbark Tree` - 1 tree\n",
      "88. `Metrosideros excelsa :: New Zealand Xmas Tree` - 21 trees\n",
      "89. `Morus alba 'Fruitless' :: Fruitless Mulberry` - 1 tree\n",
      "90. `Myoporum laetum :: Myoporum` - 7 trees\n",
      "91. `Nerium oleander :: Oleander` - 1 tree\n",
      "92. `Olea Majestic Beauty ::` - 3 trees\n",
      "93. `Olea europaea 'Fruitless' :: Fruitless Olive` - 8 trees\n",
      "94. `Olea europaea 'Wilsonii' :: Wilson Olive Semi-fruitless` - 7 trees\n",
      "95. `Olea europaea :: Olive Tree` - 8 trees\n",
      "96. `Persea americana :: Avocado` - 1 tree\n",
      "97. `Phoenix dactylifera :: Date Palm` - 1 tree\n",
      "98. `Photinia fraseri :: Photinia: Chinese photinia` - 1 tree\n",
      "99. `Pinus canariensis :: Canary Island Pine` - 2 trees\n",
      "100. `Pinus pinea :: Italian Stone Pine` - 2 trees\n",
      "101. `Pinus radiata :: Monterey Pine` - 5 trees\n",
      "102. `Pinus thunbergii :: Japanese Black Pine` - 2 trees\n",
      "103. `Pistacia chinensis :: Chinese Pistache` - 10 trees\n",
      "104. `Pittosporum undulatum :: Victorian Box` - 25 trees\n",
      "105. `Platanus occidentalis :: American sycamore` - 1 tree\n",
      "106. `Platanus racemosa :: California Sycamore` - 8 trees\n",
      "107. `Platanus x hispanica 'Columbia' :: Columbia Hybrid Plane Tree` - 2 trees\n",
      "108. `Platanus x hispanica :: Sycamore: London Plane` - 117 trees\n",
      "109. `Podocarpus gracilor :: Fern Pine` - 8 trees\n",
      "110. `Populus nigra 'Italica' :: Lombardy Poplar` - 1 tree\n",
      "111. `Potential Site :: Potential Site` - 5 trees\n",
      "112. `Prunus caroliniana :: Carolina Cherry Laurel` - 1 tree\n",
      "113. `Prunus cerasifera :: Cherry Plum` - 20 trees\n",
      "114. `Prunus laurocerasus :: English laurel` - 1 tree\n",
      "115. `Prunus lyonii :: Catalina Cherry` - 1 tree\n",
      "116. `Prunus serrulata 'Kwanzan' :: Kwanzan Flowering Cherry` - 1 tree\n",
      "117. `Prunus serrulata :: Ornamental Cherry` - 2 trees\n",
      "118. `Prunus spp :: Almond Tree` - 1 tree\n",
      "119. `Prunus spp :: Flowering Plum` - 4 trees\n",
      "120. `Prunus subhirtella 'autumnalis' :: Higan Cherry` - 1 tree\n",
      "121. `Pseudotsuga menziesii :: Douglas Fir` - 2 trees\n",
      "122. `Pyrus calleryana 'Bradford' :: Ornamental Pear: Bradford` - 2 trees\n",
      "123. `Pyrus calleryana :: Ornamental Pear` - 2 trees\n",
      "124. `Pyrus kawakamii :: Evergreen Pear` - 2 trees\n",
      "125. `Quercus agrifolia :: Coast Live Oak` - 4 trees\n",
      "126. `Quercus spp :: Oak` - 1 tree\n",
      "127. `Quercus suber :: Cork Oak` - 6 trees\n",
      "128. `Quercus tomentella :: Island oak` - 5 trees\n",
      "129. `Quercus virginiana :: Southern Live Oak` - 1 tree\n",
      "130. `Rhamnus alaternus :: Italian Buckthorn` - 1 tree\n",
      "131. `Schinus molle :: California Pepper` - 4 trees\n",
      "132. `Schinus terebinthifolius :: Brazilian Pepper` - 4 trees\n",
      "133. `Sequoia sempervirens :: Coast Redwood` - 1 tree\n",
      "134. `Syagrus romanzoffianum :: Queen Palm` - 6 trees\n",
      "135. `Syzygium paniculatum :: Brush Cherry` - 1 tree\n",
      "136. `Thuja occidentalis 'Emerald' :: Emerald Arborvitae` - 1 tree\n",
      "137. `Tilia cordata :: Littleleaf Linden` - 8 trees\n",
      "138. `Tree(s) ::` - 8 trees\n",
      "139. `Tristania conferta ::` - 4 trees\n",
      "140. `Tristaniopsis laurina 'Elegant' :: Small-leaf Tristania 'Elegant'` - 3 trees\n",
      "141. `Tristaniopsis laurina :: Swamp Myrtle` - 52 trees\n",
      "142. `Ulmus carpinifolia 'Frontier' :: Frontier Elm 'Frontier'` - 1 tree\n",
      "143. `Ulmus parvifolia :: Chinese Elm` - 11 trees\n",
      "144. `Ulmus spp :: Elm Spp` - 1 tree\n",
      "145. `Umbellularia californica :: California Bay` - 1 tree\n",
      "146. `Washingtonia robusta :: Mexican Fan Palm` - 1 tree\n",
      "147. `Yucca elephantipes :: Giant Yucca` - 1 tree\n",
      "148. `Zelkova serrata :: Sawleaf Zelkova` - 3 trees\n",
      "\n",
      "This list shows all species of trees in San Francisco along with the count of how many trees of each species are present.\n"
     ]
    }
   ],
   "execution_count": 105
  },
  {
   "metadata": {
    "ExecuteTime": {
     "end_time": "2025-06-21T05:44:39.173652Z",
     "start_time": "2025-06-21T05:44:39.139679Z"
    }
   },
   "cell_type": "code",
   "source": "print(response[\"query\"])",
   "id": "4f81440edd238076",
   "outputs": [
    {
     "name": "stdout",
     "output_type": "stream",
     "text": [
      "```sql\n",
      "SELECT \"qSpecies\", COUNT(*) AS \"TreeCount\" \n",
      "FROM street_trees \n",
      "GROUP BY \"qSpecies\";\n",
      "```\n"
     ]
    }
   ],
   "execution_count": 80
  },
  {
   "metadata": {
    "ExecuteTime": {
     "end_time": "2025-06-21T05:49:49.591042Z",
     "start_time": "2025-06-21T05:49:49.563578Z"
    }
   },
   "cell_type": "code",
   "source": "db.run(\"SELECT qSpecies, COUNT(*) AS TreeCount FROM street_trees GROUP BY qSpecies;\")",
   "id": "ce3ba3fe2b65633",
   "outputs": [
    {
     "data": {
      "text/plain": [
       "'[(\\'::\\', 5), (\\':: To Be Determine\\', 4), (\\':: Tree\\', 10), (\"Acacia baileyana \\'Purpurea\\' :: Purple-leaf Acacia\", 1), (\"Acacia baileyana :: Bailey\\'s Acacia\", 1), (\\'Acacia decurrens :: Acacia: Silver Wattle\\', 1), (\\'Acacia melanoxylon :: Blackwood Acacia\\', 18), (\\'Acacia spp :: Acacia Spp\\', 1), (\\'Acacia stenophylla :: Shoestring Acacia\\', 11), (\\'Acer buergeranum :: Trident Maple\\', 4), (\\'Acer japonicum :: Japanese Maple\\', 1), (\\'Acer palmatum :: Japanese Maple\\', 5), (\"Acer rubrum \\'Armstrong\\' :: Armstrong Red Maple\", 1), (\"Acer rubrum \\'October Glory\\' :: Red October Glory Maple\", 5), (\\'Acer rubrum :: Red Maple\\', 11), (\"Aesculus x carnea \\'Briotii\\' :: Ruby Horse Chestnut\", 1), (\\'Aesculus x carnea :: Red Horse Chestnut\\', 5), (\\'Afrocarpus gracilior :: Fern Pine\\', 4), (\\'Agonis flexuosa :: Peppermint Willow\\', 3), (\\'Araucaria heterophylla :: Norfolk Island Pine\\', 1), (\"Arbutus \\'Marina\\' :: Hybrid Strawberry Tree\", 39), (\\'Arbutus unedo :: Strawberry Tree\\', 2), (\\'Archontophoenix cunninghamiana :: King Palm\\', 1), (\\'Butia catarinensis :: Butia\\', 1), (\\'Callistemon citrinus :: Lemon Bottlebrush\\', 12), (\\'Callistemon viminalis :: Weeping Bottlebrush\\', 1), (\\'Carpinus betulus :: European Hornbeam\\', 2), (\"Ceanothus \\'Ray Hartman\\' :: California Lilac \\'Ray Hartman\\'\", 4), (\\'Cercis canadensis :: Eastern Redbud\\', 1), (\\'Cercis occidentalis :: Western Redbud\\', 1), (\\'Cinnamomum camphora :: Camphor Tree\\', 9), (\\'Cordyline australis :: Dracena Palm\\', 8), (\\'Corymbia ficifolia :: Red Flowering Gum\\', 4), (\\'Crataegus phaenopyrum :: Washington Hawthorn\\', 1), (\\'Cupressus macrocarpa :: Monterey Cypress\\', 10), (\\'Cycas revoluta :: Sago palm\\', 1), (\"Dodonaea viscosa \\'Purpurea\\' :: Purple Hopseed Bush\", 1), (\\'Elaeocarpus decipiens :: Japanese Blueberry Tree\\', 1), (\\'Eriobotrya deflexa :: Bronze Loquat\\', 17), (\\'Eriobotrya japonica :: Edible Loquat\\', 1), (\\'Eucalyptus Spp :: Eucalyptus\\', 3), (\\'Eucalyptus camaldulensis :: River Red Gum\\', 1), (\\'Eucalyptus citriodora :: Lemon scented eucalyptus\\', 81), (\\'Eucalyptus globulus :: Blue Gum\\', 1), (\"Eucalyptus nicholii :: Nichol\\'s Willow-Leafed Peppermint\", 2), (\\'Eucalyptus polyanthemos :: Silver Dollar Eucalyptus\\', 3), (\\'Ficus microcarpa :: Chinese Banyan\\', 2), (\"Ficus microcarpa nitida \\'Green Gem\\' :: Indian Laurel Fig Tree \\'Green Gem\\'\", 18), (\\'Ficus retusa nitida :: Banyan Fig\\', 2), (\\'Ficus rubiginosa :: Port Jackson Fig\\', 1), (\\'Fraxinus uhdei :: Shamel Ash: Evergreen Ash\\', 1), (\\'Geijera parviflora :: Australian Willow\\', 2), (\"Ginkgo biloba \\'Autumn Gold\\' :: Ginkgo: Autumn Gold\", 1), (\\'Ginkgo biloba :: Maidenhair Tree\\', 18), (\\'Grevillea robusta :: Silk Oak Tree\\', 4), (\\'Griselinia lucida :: Griselinia\\', 1), (\\'Hakea suaveolens :: Sweet Hakea Tree\\', 1), (\\'Howea belmoreana :: Belmore Sentry Palm\\', 1), (\\'Hymenosporum flavum :: Sweetshade\\', 11), (\\'Ilex aquifolium :: European Holly\\', 2), (\\'Jacaranda mimosifolia :: Jacaranda\\', 5), (\\'Juniperus chinensis :: Juniper\\', 4), (\\'Koelreuteria paniculata :: Golden Rain Tree\\', 3), (\\'Lagerstroemia indica :: Crape Myrtle\\', 1), (\\'Lagunaria patersonii :: Primrose Tree\\', 9), (\\'Laurus nobilis :: Sweet Bay: Grecian Laurel\\', 7), (\"Laurus x \\'Saratoga\\' :: Hybrid Laurel\", 2), (\\'Leptospermum laevigatum :: Australian Tea Tree\\', 5), (\\'Leptospermum scoparium :: New Zealand Tea Tree\\', 1), (\\'Ligustrum japonicum :: Japanese Privet\\', 3), (\\'Ligustrum lucidum :: Glossy Privet\\', 6), (\\'Liquidambar styraciflua :: American Sweet Gum\\', 5), (\\'Lophostemon confertus :: Brisbane Box\\', 91), (\\'Lyonothamnus floribundus subsp. asplenifolius :: Santa Cruz Ironwood\\', 6), (\\'Magnolia champaca :: Champa\\', 2), (\\'Magnolia doltsopa :: Himalayan Magnolia\\', 2), (\"Magnolia grandiflora \\'Little Gem\\' :: Little Gem Magnolia\", 21), (\"Magnolia grandiflora \\'Majestic Beauty\\' :: Majestic Beauty Magnolia\", 1), (\"Magnolia grandiflora \\'Russet\\' :: Russet Magnolia\", 2), (\"Magnolia grandiflora \\'Saint Mary\\' :: Saint Mary Magnolia\", 2), (\\'Magnolia grandiflora :: Southern Magnolia\\', 32), (\\'Magnolia spp :: Magnolia\\', 1), (\"Maytenus boaria \\'Green Showers\\' :: Meyten Tree \\'Green Showers\\'\", 1), (\\'Maytenus boaria :: Mayten\\', 2), (\\'Melaleuca ericifolia :: Heath Melaleuca\\', 1), (\\'Melaleuca quinquenervia :: Cajeput\\', 2), (\\'Melaleuca styphelliodes :: Paperbark Tree\\', 1), (\\'Metrosideros excelsa :: New Zealand Xmas Tree\\', 21), (\"Morus alba \\'Fruitless\\' :: Fruitless Mulberry\", 1), (\\'Myoporum laetum :: Myoporum\\', 7), (\\'Nerium oleander :: Oleander\\', 1), (\\'Olea Majestic Beauty ::\\', 3), (\"Olea europaea \\'Fruitless\\' :: Fruitless Olive\", 8), (\"Olea europaea \\'Wilsonii\\' :: Wilson Olive Semi-fruitless\", 7), (\\'Olea europaea :: Olive Tree\\', 8), (\\'Persea americana :: Avocado\\', 1), (\\'Phoenix dactylifera :: Date Palm\\', 1), (\\'Photinia fraseri :: Photinia: Chinese photinia\\', 1), (\\'Pinus canariensis :: Canary Island Pine\\', 2), (\\'Pinus pinea :: Italian Stone Pine\\', 2), (\\'Pinus radiata :: Monterey Pine\\', 5), (\\'Pinus thunbergii :: Japanese Black Pine\\', 2), (\\'Pistacia chinensis :: Chinese Pistache\\', 10), (\\'Pittosporum undulatum :: Victorian Box\\', 25), (\\'Platanus occidentalis :: American sycamore\\', 1), (\\'Platanus racemosa :: California Sycamore\\', 8), (\"Platanus x hispanica \\'Columbia\\' :: Columbia Hybrid Plane Tree\", 2), (\\'Platanus x hispanica :: Sycamore: London Plane\\', 117), (\\'Podocarpus gracilor :: Fern Pine\\', 8), (\"Populus nigra \\'Italica\\' :: Lombardy Poplar\", 1), (\\'Potential Site :: Potential Site\\', 5), (\\'Prunus caroliniana :: Carolina Cherry Laurel\\', 1), (\\'Prunus cerasifera :: Cherry Plum\\', 20), (\\'Prunus laurocerasus :: English laurel\\', 1), (\\'Prunus lyonii :: Catalina Cherry\\', 1), (\"Prunus serrulata \\'Kwanzan\\' :: Kwanzan Flowering Cherry\", 1), (\\'Prunus serrulata :: Ornamental Cherry\\', 2), (\\'Prunus spp :: Almond Tree\\', 1), (\\'Prunus spp :: Flowering Plum\\', 4), (\"Prunus subhirtella \\'autumnalis\\' :: Higan Cherry\", 1), (\\'Pseudotsuga menziesii :: Douglas Fir\\', 2), (\"Pyrus calleryana \\'Bradford\\' :: Ornamental Pear: Bradford\", 2), (\\'Pyrus calleryana :: Ornamental Pear\\', 2), (\\'Pyrus kawakamii :: Evergreen Pear\\', 2), (\\'Quercus agrifolia :: Coast Live Oak\\', 4), (\\'Quercus spp :: Oak\\', 1), (\\'Quercus suber :: Cork Oak\\', 6), (\\'Quercus tomentella :: Island oak\\', 5), (\\'Quercus virginiana :: Southern Live Oak\\', 1), (\\'Rhamnus alaternus :: Italian Buckthorn\\', 1), (\\'Schinus molle :: California Pepper\\', 4), (\\'Schinus terebinthifolius :: Brazilian Pepper\\', 4), (\\'Sequoia sempervirens :: Coast Redwood\\', 1), (\\'Syagrus romanzoffianum :: Queen Palm\\', 6), (\\'Syzygium paniculatum :: Brush Cherry\\', 1), (\"Thuja occidentalis \\'Emerald\\' :: Emerald Arborvitae\", 1), (\\'Tilia cordata :: Littleleaf Linden\\', 8), (\\'Tree(s) ::\\', 8), (\\'Tristania conferta ::\\', 4), (\"Tristaniopsis laurina \\'Elegant\\' :: Small-leaf Tristania \\'Elegant\\'\", 3), (\\'Tristaniopsis laurina :: Swamp Myrtle\\', 52), (\"Ulmus carpinifolia \\'Frontier\\' :: Frontier Elm \\'Frontier\\'\", 1), (\\'Ulmus parvifolia :: Chinese Elm\\', 11), (\\'Ulmus spp :: Elm Spp\\', 1), (\\'Umbellularia californica :: California Bay\\', 1), (\\'Washingtonia robusta :: Mexican Fan Palm\\', 1), (\\'Yucca elephantipes :: Giant Yucca\\', 1), (\\'Zelkova serrata :: Sawleaf Zelkova\\', 3)]'"
      ]
     },
     "execution_count": 86,
     "metadata": {},
     "output_type": "execute_result"
    }
   ],
   "execution_count": 86
  },
  {
   "metadata": {
    "ExecuteTime": {
     "end_time": "2025-06-21T07:07:14.954355Z",
     "start_time": "2025-06-21T07:06:31.753773Z"
    }
   },
   "cell_type": "code",
   "source": [
    "from operator import itemgetter\n",
    "from langchain_core.output_parsers import StrOutputParser\n",
    "from langchain_core.prompts import PromptTemplate\n",
    "from langchain_core.runnables import RunnableLambda, RunnablePassthrough\n",
    "from langchain_community.tools.sql_database.tool import QuerySQLDataBaseTool\n",
    "from langchain.sql_database import SQLDatabase\n",
    "from langchain.chains import create_sql_query_chain\n",
    "from langchain_openai import ChatOpenAI\n",
    "\n",
    "# 📦 Conexión a base de datos\n",
    "db = SQLDatabase.from_uri(\"sqlite:///data/street_tree_db.sqlite\")\n",
    "llm = ChatOpenAI(model=\"gpt-4o-mini\")\n",
    "\n",
    "# 🧽 Limpieza robusta de la respuesta SQL generada# Limpieza con impresión de depuración\n",
    "def clean_sql_response(response: str) -> str:\n",
    "    import re\n",
    "\n",
    "    # Eliminar bloque Markdown ```sql ... ``` incluso si hay espacios o saltos\n",
    "    response = response.strip()\n",
    "\n",
    "    # Usar regex para eliminar bloques como ```sql ... ```\n",
    "    response = re.sub(r\"```sql\\s*([\\s\\S]+?)\\s*```\", r\"\\1\", response, flags=re.IGNORECASE).strip()\n",
    "\n",
    "    # Eliminar prefijo SQLQuery:\n",
    "    if response.startswith(\"SQLQuery:\"):\n",
    "        response = response[len(\"SQLQuery:\"):].strip()\n",
    "\n",
    "    return response\n",
    "\n",
    "\n",
    "\n",
    "# 🔐 Ejecución segura del SQL con captura de errores\n",
    "def safe_execute_query(query: str) -> str:\n",
    "    try:\n",
    "        return execute_query.run(query)\n",
    "    except Exception as e:\n",
    "        return f\"[SQL ERROR] {str(e)}\"\n",
    "\n",
    "# ✂️ Limpieza de Markdown del output del modelo (en caso de que ignore el prompt)\n",
    "def clean_markdown_blocks(text: str) -> str:\n",
    "    return text.replace(\"```sql\", \"\").replace(\"```\", \"\").strip()\n",
    "\n",
    "# 🧠 Prompt ajustado para evitar SQL y markdown en la respuesta\n",
    "answer_prompt = PromptTemplate.from_template(\n",
    "    \"\"\"You are a helpful data assistant.\n",
    "\n",
    "Given the following user question,\n",
    "corresponding SQL query, and SQL result,\n",
    "answer the user question.\n",
    "\n",
    "- DO NOT include SQL markdown formatting (no ```sql or ```).\n",
    "- DO NOT repeat the SQL query in your answer.\n",
    "- If the result starts with [SQL ERROR], explain briefly what likely went wrong and optionally suggest a fix.\n",
    "\n",
    "Question: {question}\n",
    "SQL Query: {query}\n",
    "SQL Result: {result}\n",
    "Answer:\"\"\"\n",
    ")\n",
    "\n",
    "# 🧱 Componentes\n",
    "write_query = create_sql_query_chain(llm, db)\n",
    "execute_query = QuerySQLDataBaseTool(db=db)\n",
    "\n",
    "# Parser con limpieza adicional post-LLM\n",
    "parser = RunnableLambda(lambda x: clean_markdown_blocks(StrOutputParser().invoke(x)))\n",
    "\n",
    "# 🔗 Cadena completa\n",
    "chain = (\n",
    "    RunnablePassthrough.assign(\n",
    "        query=write_query | RunnableLambda(clean_sql_response)\n",
    "    ).assign(\n",
    "        result=itemgetter(\"query\") | RunnableLambda(safe_execute_query)\n",
    "    )\n",
    "    | answer_prompt\n",
    "    | llm\n",
    "    | parser\n",
    ")\n",
    "\n",
    "# 🧪 Ejemplo de uso\n",
    "response = chain.invoke({\n",
    "    \"question\": \"List the species of trees that are present in San Francisco, and the number of trees per species. Show all the results not just 5.\"\n",
    "})\n",
    "\n",
    "print(response)\n",
    "\n"
   ],
   "id": "518af34ee1dc0527",
   "outputs": [
    {
     "name": "stdout",
     "output_type": "stream",
     "text": [
      "The species of trees present in San Francisco and their respective counts are as follows:\n",
      "\n",
      "- '::' - 5 trees\n",
      "- ':: To Be Determine' - 4 trees\n",
      "- ':: Tree' - 10 trees\n",
      "- \"Acacia baileyana 'Purpurea' :: Purple-leaf Acacia\" - 1 tree\n",
      "- \"Acacia baileyana :: Bailey's Acacia\" - 1 tree\n",
      "- 'Acacia decurrens :: Acacia: Silver Wattle' - 1 tree\n",
      "- 'Acacia melanoxylon :: Blackwood Acacia' - 18 trees\n",
      "- 'Acacia spp :: Acacia Spp' - 1 tree\n",
      "- 'Acacia stenophylla :: Shoestring Acacia' - 11 trees\n",
      "- 'Acer buergeranum :: Trident Maple' - 4 trees\n",
      "- 'Acer japonicum :: Japanese Maple' - 1 tree\n",
      "- 'Acer palmatum :: Japanese Maple' - 5 trees\n",
      "- \"Acer rubrum 'Armstrong' :: Armstrong Red Maple\" - 1 tree\n",
      "- \"Acer rubrum 'October Glory' :: Red October Glory Maple\" - 5 trees\n",
      "- 'Acer rubrum :: Red Maple' - 11 trees\n",
      "- \"Aesculus x carnea 'Briotii' :: Ruby Horse Chestnut\" - 1 tree\n",
      "- 'Aesculus x carnea :: Red Horse Chestnut' - 5 trees\n",
      "- 'Afrocarpus gracilior :: Fern Pine' - 4 trees\n",
      "- 'Agonis flexuosa :: Peppermint Willow' - 3 trees\n",
      "- 'Araucaria heterophylla :: Norfolk Island Pine' - 1 tree\n",
      "- \"Arbutus 'Marina' :: Hybrid Strawberry Tree\" - 39 trees\n",
      "- 'Arbutus unedo :: Strawberry Tree' - 2 trees\n",
      "- 'Archontophoenix cunninghamiana :: King Palm' - 1 tree\n",
      "- 'Butia catarinensis :: Butia' - 1 tree\n",
      "- 'Callistemon citrinus :: Lemon Bottlebrush' - 12 trees\n",
      "- 'Callistemon viminalis :: Weeping Bottlebrush' - 1 tree\n",
      "- 'Carpinus betulus :: European Hornbeam' - 2 trees\n",
      "- \"Ceanothus 'Ray Hartman' :: California Lilac 'Ray Hartman'\" - 4 trees\n",
      "- 'Cercis canadensis :: Eastern Redbud' - 1 tree\n",
      "- 'Cercis occidentalis :: Western Redbud' - 1 tree\n",
      "- 'Cinnamomum camphora :: Camphor Tree' - 9 trees\n",
      "- 'Cordyline australis :: Dracena Palm' - 8 trees\n",
      "- 'Corymbia ficifolia :: Red Flowering Gum' - 4 trees\n",
      "- 'Crataegus phaenopyrum :: Washington Hawthorn' - 1 tree\n",
      "- 'Cupressus macrocarpa :: Monterey Cypress' - 10 trees\n",
      "- 'Cycas revoluta :: Sago palm' - 1 tree\n",
      "- \"Dodonaea viscosa 'Purpurea' :: Purple Hopseed Bush\" - 1 tree\n",
      "- 'Elaeocarpus decipiens :: Japanese Blueberry Tree' - 1 tree\n",
      "- 'Eriobotrya deflexa :: Bronze Loquat' - 17 trees\n",
      "- 'Eriobotrya japonica :: Edible Loquat' - 1 tree\n",
      "- 'Eucalyptus Spp :: Eucalyptus' - 3 trees\n",
      "- 'Eucalyptus camaldulensis :: River Red Gum' - 1 tree\n",
      "- 'Eucalyptus citriodora :: Lemon scented eucalyptus' - 81 trees\n",
      "- 'Eucalyptus globulus :: Blue Gum' - 1 tree\n",
      "- \"Eucalyptus nicholii :: Nichol's Willow-Leafed Peppermint\" - 2 trees\n",
      "- 'Eucalyptus polyanthemos :: Silver Dollar Eucalyptus' - 3 trees\n",
      "- 'Ficus microcarpa :: Chinese Banyan' - 2 trees\n",
      "- \"Ficus microcarpa nitida 'Green Gem' :: Indian Laurel Fig Tree 'Green Gem'\" - 18 trees\n",
      "- 'Ficus retusa nitida :: Banyan Fig' - 2 trees\n",
      "- 'Ficus rubiginosa :: Port Jackson Fig' - 1 tree\n",
      "- 'Fraxinus uhdei :: Shamel Ash: Evergreen Ash' - 1 tree\n",
      "- 'Geijera parviflora :: Australian Willow' - 2 trees\n",
      "- \"Ginkgo biloba 'Autumn Gold' :: Ginkgo: Autumn Gold\" - 1 tree\n",
      "- 'Ginkgo biloba :: Maidenhair Tree' - 18 trees\n",
      "- 'Grevillea robusta :: Silk Oak Tree' - 4 trees\n",
      "- 'Griselinia lucida :: Griselinia' - 1 tree\n",
      "- 'Hakea suaveolens :: Sweet Hakea Tree' - 1 tree\n",
      "- 'Howea belmoreana :: Belmore Sentry Palm' - 1 tree\n",
      "- 'Hymenosporum flavum :: Sweetshade' - 11 trees\n",
      "- 'Ilex aquifolium :: European Holly' - 2 trees\n",
      "- 'Jacaranda mimosifolia :: Jacaranda' - 5 trees\n",
      "- 'Juniperus chinensis :: Juniper' - 4 trees\n",
      "- 'Koelreuteria paniculata :: Golden Rain Tree' - 3 trees\n",
      "- 'Lagerstroemia indica :: Crape Myrtle' - 1 tree\n",
      "- 'Lagunaria patersonii :: Primrose Tree' - 9 trees\n",
      "- 'Laurus nobilis :: Sweet Bay: Grecian Laurel' - 7 trees\n",
      "- \"Laurus x 'Saratoga' :: Hybrid Laurel\" - 2 trees\n",
      "- 'Leptospermum laevigatum :: Australian Tea Tree' - 5 trees\n",
      "- 'Leptospermum scoparium :: New Zealand Tea Tree' - 1 tree\n",
      "- 'Ligustrum japonicum :: Japanese Privet' - 3 trees\n",
      "- 'Ligustrum lucidum :: Glossy Privet' - 6 trees\n",
      "- 'Liquidambar styraciflua :: American Sweet Gum' - 5 trees\n",
      "- 'Lophostemon confertus :: Brisbane Box' - 91 trees\n",
      "- 'Lyonothamnus floribundus subsp. asplenifolius :: Santa Cruz Ironwood' - 6 trees\n",
      "- 'Magnolia champaca :: Champa' - 2 trees\n",
      "- 'Magnolia doltsopa :: Himalayan Magnolia' - 2 trees\n",
      "- \"Magnolia grandiflora 'Little Gem' :: Little Gem Magnolia\" - 21 trees\n",
      "- \"Magnolia grandiflora 'Majestic Beauty' :: Majestic Beauty Magnolia\" - 1 tree\n",
      "- \"Magnolia grandiflora 'Russet' :: Russet Magnolia\" - 2 trees\n",
      "- \"Magnolia grandiflora 'Saint Mary' :: Saint Mary Magnolia\" - 2 trees\n",
      "- 'Magnolia grandiflora :: Southern Magnolia' - 32 trees\n",
      "- 'Magnolia spp :: Magnolia' - 1 tree\n",
      "- \"Maytenus boaria 'Green Showers' :: Meyten Tree 'Green Showers'\" - 1 tree\n",
      "- 'Maytenus boaria :: Mayten' - 2 trees\n",
      "- 'Melaleuca ericifolia :: Heath Melaleuca' - 1 tree\n",
      "- 'Melaleuca quinquenervia :: Cajeput' - 2 trees\n",
      "- 'Melaleuca styphelliodes :: Paperbark Tree' - 1 tree\n",
      "- 'Metrosideros excelsa :: New Zealand Xmas Tree' - 21 trees\n",
      "- \"Morus alba 'Fruitless' :: Fruitless Mulberry\" - 1 tree\n",
      "- 'Myoporum laetum :: Myoporum' - 7 trees\n",
      "- 'Nerium oleander :: Oleander' - 1 tree\n",
      "- 'Olea Majestic Beauty ::' - 3 trees\n",
      "- \"Olea europaea 'Fruitless' :: Fruitless Olive\" - 8 trees\n",
      "- \"Olea europaea 'Wilsonii' :: Wilson Olive Semi-fruitless\" - 7 trees\n",
      "- 'Olea europaea :: Olive Tree' - 8 trees\n",
      "- 'Persea americana :: Avocado' - 1 tree\n",
      "- 'Phoenix dactylifera :: Date Palm' - 1 tree\n",
      "- 'Photinia fraseri :: Photinia: Chinese photinia' - 1 tree\n",
      "- 'Pinus canariensis :: Canary Island Pine' - 2 trees\n",
      "- 'Pinus pinea :: Italian Stone Pine' - 2 trees\n",
      "- 'Pinus radiata :: Monterey Pine' - 5 trees\n",
      "- 'Pinus thunbergii :: Japanese Black Pine' - 2 trees\n",
      "- 'Pistacia chinensis :: Chinese Pistache' - 10 trees\n",
      "- 'Pittosporum undulatum :: Victorian Box' - 25 trees\n",
      "- 'Platanus occidentalis :: American sycamore' - 1 tree\n",
      "- 'Platanus racemosa :: California Sycamore' - 8 trees\n",
      "- \"Platanus x hispanica 'Columbia' :: Columbia Hybrid Plane Tree\" - 2 trees\n",
      "- 'Platanus x hispanica :: Sycamore: London Plane' - 117 trees\n",
      "- 'Podocarpus gracilor :: Fern Pine' - 8 trees\n",
      "- \"Populus nigra 'Italica' :: Lombardy Poplar\" - 1 tree\n",
      "- 'Potential Site :: Potential Site' - 5 trees\n",
      "- 'Prunus caroliniana :: Carolina Cherry Laurel' - 1 tree\n",
      "- 'Prunus cerasifera :: Cherry Plum' - 20 trees\n",
      "- 'Prunus laurocerasus :: English laurel' - 1 tree\n",
      "- 'Prunus lyonii :: Catalina Cherry' - 1 tree\n",
      "- \"Prunus serrulata 'Kwanzan' :: Kwanzan Flowering Cherry\" - 1 tree\n",
      "- 'Prunus serrulata :: Ornamental Cherry' - 2 trees\n",
      "- 'Prunus spp :: Almond Tree' - 1 tree\n",
      "- 'Prunus spp :: Flowering Plum' - 4 trees\n",
      "- \"Prunus subhirtella 'autumnalis' :: Higan Cherry\" - 1 tree\n",
      "- 'Pseudotsuga menziesii :: Douglas Fir' - 2 trees\n",
      "- \"Pyrus calleryana 'Bradford' :: Ornamental Pear: Bradford\" - 2 trees\n",
      "- 'Pyrus calleryana :: Ornamental Pear' - 2 trees\n",
      "- 'Pyrus kawakamii :: Evergreen Pear' - 2 trees\n",
      "- 'Quercus agrifolia :: Coast Live Oak' - 4 trees\n",
      "- 'Quercus spp :: Oak' - 1 tree\n",
      "- 'Quercus suber :: Cork Oak' - 6 trees\n",
      "- 'Quercus tomentella :: Island oak' - 5 trees\n",
      "- 'Quercus virginiana :: Southern Live Oak' - 1 tree\n",
      "- 'Rhamnus alaternus :: Italian Buckthorn' - 1 tree\n",
      "- 'Schinus molle :: California Pepper' - 4 trees\n",
      "- 'Schinus terebinthifolius :: Brazilian Pepper' - 4 trees\n",
      "- 'Sequoia sempervirens :: Coast Redwood' - 1 tree\n",
      "- 'Syagrus romanzoffianum :: Queen Palm' - 6 trees\n",
      "- 'Syzygium paniculatum :: Brush Cherry' - 1 tree\n",
      "- \"Thuja occidentalis 'Emerald' :: Emerald Arborvitae\" - 1 tree\n",
      "- 'Tilia cordata :: Littleleaf Linden' - 8 trees\n",
      "- 'Tree(s) ::' - 8 trees\n",
      "- 'Tristania conferta ::' - 4 trees\n",
      "- \"Tristaniopsis laurina 'Elegant' :: Small-leaf Tristania 'Elegant'\" - 3 trees\n",
      "- 'Tristaniopsis laurina :: Swamp Myrtle' - 52 trees\n",
      "- \"Ulmus carpinifolia 'Frontier' :: Frontier Elm 'Frontier'\" - 1 tree\n",
      "- 'Ulmus parvifolia :: Chinese Elm' - 11 trees\n",
      "- 'Ulmus spp :: Elm Spp' - 1 tree\n",
      "- 'Umbellularia californica :: California Bay' - 1 tree\n",
      "- 'Washingtonia robusta :: Mexican Fan Palm' - 1 tree\n",
      "- 'Yucca elephantipes :: Giant Yucca' - 1 tree\n",
      "- 'Zelkova serrata :: Sawleaf Zelkova' - 3 trees\n",
      "\n",
      "This list shows the diversity of tree species found in San Francisco, along with the number of individual trees for each species.\n"
     ]
    }
   ],
   "execution_count": 129
  },
  {
   "cell_type": "markdown",
   "id": "7fc31c07-a003-403d-bea6-c8965f9e8b38",
   "metadata": {},
   "source": [
    "#### Let's review what is happening in the above chain.\n",
    "* The user asks a question (identified by the variable name \"question\").\n",
    "* We use RunnablePassthrough to get that \"question\" variable, and we use .assign() twice to get the other two variables required by the prompt template: \"query\" and \"result\".\n",
    "* With the first .assign(), the write_query chain has que question as input and the SQL query (identified by the variable name \"query\") as output.\n",
    "* With the second .assign(), the execute_query chain has the SQL query as input and the SQL query execution (identified by the variable name \"result\") as output.\n",
    "* The prompt template has the question (identified by the variable name \"question\"), the SQL query (identified by the variable name \"query\") and the SQL query execution (identified by the variable name \"result\") as input, and the final prompt as the output.\n",
    "* The chat model has the prompt as he input and the AIMessage with the response in natural language as the output.\n",
    "* The StrOutputParser has the AIMessage with the response in natural language as the input and the response in natural language as a string of text as the output."
   ]
  },
  {
   "cell_type": "markdown",
   "id": "60fcad81-c02c-4f66-9a51-a5ceb15c6f5d",
   "metadata": {},
   "source": [
    "#### About the role of .assign() in this chain\n",
    "In this exercise we have learned more about the .assign() built-in method for Runnables. We have seen that the .assign() method **allows us to include additional keys and values** based on existing input.\n",
    "* With the first .assign(), the write_query chain has the question as input and the SQL query (identified by the variable name \"query\") as output.\n",
    "* With the second .assign(), the execute_query chain has the SQL query as input and the SQL query execution (identified by the variable name \"result\") as output.\n",
    "\n",
    "The .assign() method allows us to add new keys and values to the output of a Runnable **while keeping the original keys and values intact**. See the process again:\n",
    "* We use RunnablePassthrough to get that \"question\" variable, and we use .assign() twice to get the other two variables required by the prompt template: \"query\" and \"result\".\n",
    "* With the first .assign(), the write_query chain has que question as input and the SQL query (identified by the variable name \"query\") as output.\n",
    "* With the second .assign(), the execute_query chain has the SQL query as input and the SQL query execution (identified by the variable name \"result\") as output."
   ]
  },
  {
   "cell_type": "markdown",
   "id": "fa144596-cd5d-498c-97e0-4406f1e9f69f",
   "metadata": {},
   "source": [
    "## How to execute the code from Visual Studio Code\n",
    "* In Visual Studio Code, see the file 004-invoke-stream-batch.py\n",
    "* In terminal, make sure you are in the directory of the file and run:\n",
    "    * python 001-qa-from-sql.py"
   ]
  },
  {
   "cell_type": "code",
   "id": "ac038d30-9592-4eb3-b418-335989ce2eee",
   "metadata": {},
   "source": [],
   "outputs": [],
   "execution_count": null
  }
 ],
 "metadata": {
  "kernelspec": {
   "display_name": "Python 3 (ipykernel)",
   "language": "python",
   "name": "python3"
  },
  "language_info": {
   "codemirror_mode": {
    "name": "ipython",
    "version": 3
   },
   "file_extension": ".py",
   "mimetype": "text/x-python",
   "name": "python",
   "nbconvert_exporter": "python",
   "pygments_lexer": "ipython3",
   "version": "3.11.4"
  }
 },
 "nbformat": 4,
 "nbformat_minor": 5
}
